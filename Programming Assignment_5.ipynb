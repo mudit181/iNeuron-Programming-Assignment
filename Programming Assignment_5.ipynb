{
 "cells": [
  {
   "cell_type": "markdown",
   "id": "cb72761a",
   "metadata": {},
   "source": [
    "1. Write a Python Program to Find LCM?\n"
   ]
  },
  {
   "cell_type": "code",
   "execution_count": 33,
   "id": "f1f40961",
   "metadata": {},
   "outputs": [
    {
     "name": "stdout",
     "output_type": "stream",
     "text": [
      "Enter first number: 10\n",
      "Enter second number: 15\n",
      "The L.C.M. of 10 and 15 is : 30\n"
     ]
    }
   ],
   "source": [
    " def get_lcm(x, y):\n",
    "        '''function to calculate Least Common Number'''\n",
    "        if x > y:  \n",
    "            greater = x  \n",
    "        else:  \n",
    "            greater = y  \n",
    "        while(True):  \n",
    "            if((greater % x == 0) and (greater % y == 0)):  \n",
    "                lcm = greater  \n",
    "                break  \n",
    "            greater += 1  \n",
    "        return lcm    \n",
    "  \n",
    "  \n",
    "num1 = int(input(\"Enter first number: \"))  \n",
    "num2 = int(input(\"Enter second number: \"))  \n",
    "# printing the result for the users  \n",
    "print(f\"The L.C.M. of {num1} and {num2} is : {get_lcm(num1, num2)}\") "
   ]
  },
  {
   "cell_type": "code",
   "execution_count": 34,
   "id": "6d9468ff",
   "metadata": {},
   "outputs": [
    {
     "data": {
      "text/plain": [
       "60"
      ]
     },
     "execution_count": 34,
     "metadata": {},
     "output_type": "execute_result"
    }
   ],
   "source": [
    "get_lcm(20,15)"
   ]
  },
  {
   "cell_type": "markdown",
   "id": "e86d1b06",
   "metadata": {},
   "source": [
    "---------------------------------------"
   ]
  },
  {
   "cell_type": "markdown",
   "id": "3a90fb32",
   "metadata": {},
   "source": [
    "2. Write a Python Program to Find HCF?\n"
   ]
  },
  {
   "cell_type": "code",
   "execution_count": 35,
   "id": "620dcf1b",
   "metadata": {},
   "outputs": [
    {
     "name": "stdout",
     "output_type": "stream",
     "text": [
      "Enter num1 : 10\n",
      "Enter num2 : 20\n",
      "The HCF of 10 and 20 is : 10\n"
     ]
    }
   ],
   "source": [
    "\n",
    "def get_hcf(x,y):\n",
    "    '''function to calculate Highest Common Number'''\n",
    "    if x < y:\n",
    "        small = x\n",
    "    else:\n",
    "        small = y\n",
    "    hcf = 0   \n",
    "    for i in range(1,small+1):\n",
    "        if x % i == 0 and y % i == 0 :\n",
    "            hcf = i\n",
    "    return hcf\n",
    "\n",
    "num1 = int(input(\"Enter num1 : \"))\n",
    "num2 = int(input(\"Enter num2 : \"))\n",
    "        \n",
    "print(f\"The HCF of {num1} and {num2} is : {get_hcf(num1, num2)}\")"
   ]
  },
  {
   "cell_type": "code",
   "execution_count": 29,
   "id": "ed23ff8e",
   "metadata": {},
   "outputs": [
    {
     "data": {
      "text/plain": [
       "4"
      ]
     },
     "execution_count": 29,
     "metadata": {},
     "output_type": "execute_result"
    }
   ],
   "source": [
    "get_hcf(20,32)"
   ]
  },
  {
   "cell_type": "markdown",
   "id": "f5f5dd2d",
   "metadata": {},
   "source": [
    "-------------------------------------------------"
   ]
  },
  {
   "cell_type": "markdown",
   "id": "7bddf8b1",
   "metadata": {},
   "source": [
    "3. Write a Python Program to Convert Decimal to Binary, Octal and Hexadecimal?\n"
   ]
  },
  {
   "cell_type": "code",
   "execution_count": 38,
   "id": "377df47c",
   "metadata": {},
   "outputs": [
    {
     "name": "stdout",
     "output_type": "stream",
     "text": [
      "Enter any number : 30\n",
      "30 in binary :  0b11110\n",
      "30 in Octal  :  0o36\n",
      "30 in Hexadecimal : 0x1e\n"
     ]
    }
   ],
   "source": [
    "num=int(input(\"Enter any number : \"))\n",
    "\n",
    "print(f\"{num} in binary :  {bin(num)}\")\n",
    "print(f'{num} in Octal  :  {oct(num)}')\n",
    "print(f\"{num} in Hexadecimal : {hex(num)}\")"
   ]
  },
  {
   "cell_type": "markdown",
   "id": "d08afb13",
   "metadata": {},
   "source": [
    "----------------------------------------"
   ]
  },
  {
   "cell_type": "markdown",
   "id": "51700a8a",
   "metadata": {},
   "source": [
    "4. Write a Python Program To Find ASCII value of a character?\n"
   ]
  },
  {
   "cell_type": "code",
   "execution_count": 45,
   "id": "5c89206c",
   "metadata": {},
   "outputs": [
    {
     "name": "stdout",
     "output_type": "stream",
     "text": [
      "Enter the data : q\n",
      "The ASCII value of  q  is 113\n"
     ]
    }
   ],
   "source": [
    "def asc():\n",
    "    data = input(\"Enter the data : \")\n",
    "    print(f\"The ASCII value of  {data}  is {ord(data)}\")\n",
    "asc()"
   ]
  },
  {
   "cell_type": "code",
   "execution_count": 46,
   "id": "398b86d5",
   "metadata": {},
   "outputs": [
    {
     "name": "stdout",
     "output_type": "stream",
     "text": [
      "Enter the data : e\n",
      "The ASCII value of  e  is 101\n"
     ]
    }
   ],
   "source": [
    "asc()"
   ]
  },
  {
   "cell_type": "code",
   "execution_count": 48,
   "id": "d1cc7fc7",
   "metadata": {},
   "outputs": [
    {
     "name": "stdout",
     "output_type": "stream",
     "text": [
      "Enter the data : a\n",
      "The ASCII value of  a  is 97\n"
     ]
    }
   ],
   "source": [
    "asc()"
   ]
  },
  {
   "cell_type": "markdown",
   "id": "7a3d8067",
   "metadata": {},
   "source": [
    "-----------------------------------"
   ]
  },
  {
   "cell_type": "markdown",
   "id": "0198fcc3",
   "metadata": {},
   "source": [
    "5. Write a Python Program to Make a Simple Calculator with 4 basic mathematical operations?"
   ]
  },
  {
   "cell_type": "code",
   "execution_count": 55,
   "id": "b7726fa8",
   "metadata": {},
   "outputs": [],
   "source": [
    "def calculator():\n",
    "    \n",
    "    num1 = int(input(\"Enter num1 :\"))\n",
    "    num2 = int(input(\"Enter num2 :\"))\n",
    "\n",
    "    arthmetic_operstors = input(\"Enter any one of sign +,-,*,/ : \") \n",
    "\n",
    "\n",
    "    if arthmetic_operstors == \"+\":\n",
    "        print(f\"{num1} + {num2} = {num1+num2}\")\n",
    "    elif arthmetic_operstors == \"-\":\n",
    "        print(f\"{num1} - {num2} = {num1-num2}\")\n",
    "    elif arthmetic_operstors == \"*\":\n",
    "        print(f\"{num1} * {num2} = {num1*num2}\")\n",
    "    elif arthmetic_operstors == \"/\":\n",
    "        if num1 == 0 or num2 == 0:\n",
    "            print(\"Division with zero is not possible\")\n",
    "        else:\n",
    "\n",
    "            print(f\"{num1} / {num2} = {num1/num2}\")\n",
    "    else:\n",
    "        print(\"Invalid input\")"
   ]
  },
  {
   "cell_type": "code",
   "execution_count": 57,
   "id": "26fbbdad",
   "metadata": {},
   "outputs": [
    {
     "name": "stdout",
     "output_type": "stream",
     "text": [
      "Enter num1 :4\n",
      "Enter num2 :8\n",
      "Enter any one of sign +,-,*,/ : /\n",
      "4 / 8 = 0.5\n"
     ]
    }
   ],
   "source": [
    "calculator()"
   ]
  },
  {
   "cell_type": "code",
   "execution_count": 58,
   "id": "d000c5a1",
   "metadata": {},
   "outputs": [
    {
     "name": "stdout",
     "output_type": "stream",
     "text": [
      "Enter num1 :50\n",
      "Enter num2 :20\n",
      "Enter any one of sign +,-,*,/ : -\n",
      "50 - 20 = 30\n"
     ]
    }
   ],
   "source": [
    "calculator()"
   ]
  },
  {
   "cell_type": "code",
   "execution_count": 60,
   "id": "de81dfe4",
   "metadata": {},
   "outputs": [
    {
     "name": "stdout",
     "output_type": "stream",
     "text": [
      "Enter num1 :40\n",
      "Enter num2 :3\n",
      "Enter any one of sign +,-,*,/ : *\n",
      "40 * 3 = 120\n"
     ]
    }
   ],
   "source": [
    "calculator()"
   ]
  },
  {
   "cell_type": "code",
   "execution_count": null,
   "id": "50c316f7",
   "metadata": {},
   "outputs": [],
   "source": []
  }
 ],
 "metadata": {
  "kernelspec": {
   "display_name": "Python 3 (ipykernel)",
   "language": "python",
   "name": "python3"
  },
  "language_info": {
   "codemirror_mode": {
    "name": "ipython",
    "version": 3
   },
   "file_extension": ".py",
   "mimetype": "text/x-python",
   "name": "python",
   "nbconvert_exporter": "python",
   "pygments_lexer": "ipython3",
   "version": "3.9.12"
  }
 },
 "nbformat": 4,
 "nbformat_minor": 5
}
