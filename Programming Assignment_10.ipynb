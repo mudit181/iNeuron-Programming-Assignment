{
 "cells": [
  {
   "cell_type": "markdown",
   "id": "a52318bb",
   "metadata": {},
   "source": [
    "1. Write a Python program to find sum of elements in list?\n",
    "|"
   ]
  },
  {
   "cell_type": "code",
   "execution_count": 78,
   "id": "e3de6ec7",
   "metadata": {},
   "outputs": [
    {
     "name": "stdout",
     "output_type": "stream",
     "text": [
      "21\n"
     ]
    }
   ],
   "source": [
    "def sum_list(l):\n",
    "    num=0\n",
    "    if type(l)==list:\n",
    "        for i in l:\n",
    "            num= num + i\n",
    "\n",
    "    print(num)\n",
    "\n",
    "sum_list([2,3,6,10])"
   ]
  },
  {
   "cell_type": "markdown",
   "id": "37eb6a30",
   "metadata": {},
   "source": [
    "-------------------"
   ]
  },
  {
   "cell_type": "markdown",
   "id": "a6b9d41d",
   "metadata": {},
   "source": [
    "2. Write a Python program to Multiply all numbers in the list?\n"
   ]
  },
  {
   "cell_type": "code",
   "execution_count": 19,
   "id": "447ce600",
   "metadata": {},
   "outputs": [
    {
     "data": {
      "text/plain": [
       "24"
      ]
     },
     "execution_count": 19,
     "metadata": {},
     "output_type": "execute_result"
    }
   ],
   "source": [
    "def mut_list(l):\n",
    "    num=1\n",
    "    if type(l)==list:\n",
    "        for i in l:\n",
    "            num = num*i\n",
    "    return num\n",
    "mut_list([1,2,3,4])   "
   ]
  },
  {
   "cell_type": "markdown",
   "id": "7c1d4945",
   "metadata": {},
   "source": [
    "3. Write a Python program to find smallest number in a list?\n"
   ]
  },
  {
   "cell_type": "code",
   "execution_count": 24,
   "id": "832ff22c",
   "metadata": {},
   "outputs": [
    {
     "data": {
      "text/plain": [
       "1"
      ]
     },
     "execution_count": 24,
     "metadata": {},
     "output_type": "execute_result"
    }
   ],
   "source": [
    "def small_no(l):\n",
    "    if type(l)==list:\n",
    "        for i in l:\n",
    "            return min(l)\n",
    "    \n",
    "small_no([33,4,1,5])"
   ]
  },
  {
   "cell_type": "markdown",
   "id": "ab2394f0",
   "metadata": {},
   "source": [
    "4. Write a Python program to find largest number in a list?\n"
   ]
  },
  {
   "cell_type": "code",
   "execution_count": 28,
   "id": "910ea101",
   "metadata": {},
   "outputs": [
    {
     "data": {
      "text/plain": [
       "5"
      ]
     },
     "execution_count": 28,
     "metadata": {},
     "output_type": "execute_result"
    }
   ],
   "source": [
    "def largest_no(l):\n",
    "    if type(l)==list:\n",
    "        for i in l:\n",
    "            return max(l)\n",
    "    else:\n",
    "        return \"enter only list\"\n",
    "largest_no([2,1,3,4,5,1])"
   ]
  },
  {
   "cell_type": "markdown",
   "id": "8d476bee",
   "metadata": {},
   "source": [
    "5. Write a Python program to find second largest number in a list?\n"
   ]
  },
  {
   "cell_type": "code",
   "execution_count": 32,
   "id": "8f97b3a8",
   "metadata": {},
   "outputs": [
    {
     "data": {
      "text/plain": [
       "6"
      ]
     },
     "execution_count": 32,
     "metadata": {},
     "output_type": "execute_result"
    }
   ],
   "source": [
    "def seclarg_no(l):\n",
    "    if type(l)==list:\n",
    "        l.sort()\n",
    "        return l[-2]\n",
    "    else:\n",
    "        return \"enter only list\"\n",
    "\n",
    "seclarg_no([1,2,3,2,6,5,8,4])"
   ]
  },
  {
   "cell_type": "markdown",
   "id": "de4bcfc4",
   "metadata": {},
   "source": [
    "6. Write a Python program to find N largest elements from a list?\n"
   ]
  },
  {
   "cell_type": "code",
   "execution_count": 79,
   "id": "98cb6db9",
   "metadata": {},
   "outputs": [
    {
     "name": "stdout",
     "output_type": "stream",
     "text": [
      "Enter number of elements : 5\n",
      "2\n",
      "6\n",
      "3\n",
      "8\n",
      "9\n",
      "Elements is list are :  [2, 3, 6, 8, 9]\n",
      "Number of elements : 2\n",
      "N largest elements are: [8, 9]\n"
     ]
    }
   ],
   "source": [
    "lst = []\n",
    "N = int(input(\"Enter number of elements : \"))\n",
    "for i in range(0, N):\n",
    "    e = int(input())\n",
    "    lst.append(e)\n",
    "    lst.sort()\n",
    "print(\"Elements is list are : \",lst)\n",
    "m = int(input(\"Number of elements : \"))\n",
    "print(\"N largest elements are:\", lst[-m:])"
   ]
  },
  {
   "cell_type": "markdown",
   "id": "092ce2d7",
   "metadata": {},
   "source": [
    "---------------------"
   ]
  },
  {
   "cell_type": "markdown",
   "id": "a129fc61",
   "metadata": {},
   "source": [
    "7. Write a Python program to print even numbers in a list?\n"
   ]
  },
  {
   "cell_type": "code",
   "execution_count": 12,
   "id": "344f4ded",
   "metadata": {},
   "outputs": [],
   "source": [
    "def even(l):\n",
    "    if type(l)==list:\n",
    "        for i in l:\n",
    "            if i%2==0:\n",
    "                print(i)\n",
    "    else:\n",
    "        return \"enter only list\""
   ]
  },
  {
   "cell_type": "code",
   "execution_count": 14,
   "id": "13c31204",
   "metadata": {},
   "outputs": [
    {
     "name": "stdout",
     "output_type": "stream",
     "text": [
      "22\n",
      "14\n",
      "60\n"
     ]
    }
   ],
   "source": [
    "even([22,3,7,21,14,13,60])"
   ]
  },
  {
   "cell_type": "markdown",
   "id": "96abd8ac",
   "metadata": {},
   "source": [
    "----------------------"
   ]
  },
  {
   "cell_type": "markdown",
   "id": "140e6998",
   "metadata": {},
   "source": [
    "8. Write a Python program to print odd numbers in a List?\n"
   ]
  },
  {
   "cell_type": "code",
   "execution_count": 15,
   "id": "5ab935ad",
   "metadata": {},
   "outputs": [],
   "source": [
    "def odd(l):\n",
    "    if type(l)==list:\n",
    "        for i in l:\n",
    "            if i % 2 !=0:\n",
    "                print(i)\n",
    "    else:\n",
    "        return \"enter only list\""
   ]
  },
  {
   "cell_type": "code",
   "execution_count": 16,
   "id": "ea6e6c15",
   "metadata": {},
   "outputs": [
    {
     "name": "stdout",
     "output_type": "stream",
     "text": [
      "1\n",
      "3\n",
      "23\n"
     ]
    }
   ],
   "source": [
    "odd([1,3,4,66,56,23])"
   ]
  },
  {
   "cell_type": "markdown",
   "id": "d3a2929a",
   "metadata": {},
   "source": [
    "--------------------------"
   ]
  },
  {
   "cell_type": "markdown",
   "id": "709969e8",
   "metadata": {},
   "source": [
    "9. Write a Python program to Remove empty List from List?\n"
   ]
  },
  {
   "cell_type": "code",
   "execution_count": 29,
   "id": "bf94a7c8",
   "metadata": {},
   "outputs": [
    {
     "name": "stdout",
     "output_type": "stream",
     "text": [
      "[2, 3, 4, 54, 5, 12, 452, 11, [9, 5, 2, 4]]\n"
     ]
    }
   ],
   "source": [
    "l1=[2,3,4,[],54,5,[],12,452,11,[],[9,5,2,4]]\n",
    "l_new=[]\n",
    "for i in l1:\n",
    "    if i != []:\n",
    "        l_new.append(i)\n",
    "print(l_new)\n"
   ]
  },
  {
   "cell_type": "markdown",
   "id": "3df14ea3",
   "metadata": {},
   "source": [
    "-----------------------"
   ]
  },
  {
   "cell_type": "markdown",
   "id": "ab747202",
   "metadata": {},
   "source": [
    "10. Write a Python program to Cloning or Copying a list?\n"
   ]
  },
  {
   "cell_type": "code",
   "execution_count": 45,
   "id": "a73bbc59",
   "metadata": {},
   "outputs": [
    {
     "name": "stdout",
     "output_type": "stream",
     "text": [
      "original list [55, 62, 34, 'hello', 76, 12, 'India', 98]\n",
      "new copied list [55, 62, 34, 'hello', 76, 12, 'India', 98]\n"
     ]
    }
   ],
   "source": [
    "l=[55,62,34,'hello',76,12,'India',98]\n",
    "print('original list' , l)\n",
    "\n",
    "if type(l)==list:\n",
    "    for i in l:\n",
    "        l1 =l.copy()\n",
    "print(\"new copied list\" ,l1)\n",
    "            \n",
    "            \n",
    "\n"
   ]
  },
  {
   "cell_type": "markdown",
   "id": "918a10f1",
   "metadata": {},
   "source": [
    "---------------------"
   ]
  },
  {
   "cell_type": "markdown",
   "id": "9f791dce",
   "metadata": {},
   "source": [
    "11. Write a Python program to Count occurrences of an element in a list?"
   ]
  },
  {
   "cell_type": "code",
   "execution_count": 76,
   "id": "5aba33e1",
   "metadata": {},
   "outputs": [],
   "source": [
    "def element_count(l):\n",
    "    n=int(input('enter the list element : '))\n",
    "    if type(l)== list:\n",
    "        print(f\"{n} occurs {l.count(n)} times in the list\")        \n",
    "    else:\n",
    "        return \"enter only list\""
   ]
  },
  {
   "cell_type": "code",
   "execution_count": 77,
   "id": "17edad86",
   "metadata": {},
   "outputs": [
    {
     "name": "stdout",
     "output_type": "stream",
     "text": [
      "enter the list element : 5\n",
      "5 occurs 2 times in the list\n"
     ]
    }
   ],
   "source": [
    "element_count([1,2,2,4,5,5,2,7,8,33,3])"
   ]
  },
  {
   "cell_type": "markdown",
   "id": "28947358",
   "metadata": {},
   "source": [
    "-----------------"
   ]
  }
 ],
 "metadata": {
  "kernelspec": {
   "display_name": "Python 3 (ipykernel)",
   "language": "python",
   "name": "python3"
  },
  "language_info": {
   "codemirror_mode": {
    "name": "ipython",
    "version": 3
   },
   "file_extension": ".py",
   "mimetype": "text/x-python",
   "name": "python",
   "nbconvert_exporter": "python",
   "pygments_lexer": "ipython3",
   "version": "3.9.12"
  }
 },
 "nbformat": 4,
 "nbformat_minor": 5
}
