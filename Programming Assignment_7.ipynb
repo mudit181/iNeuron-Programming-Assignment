{
 "cells": [
  {
   "cell_type": "markdown",
   "id": "760d646f",
   "metadata": {},
   "source": [
    "1. Write a Python Program to find sum of array?\n"
   ]
  },
  {
   "cell_type": "code",
   "execution_count": 6,
   "id": "34929533",
   "metadata": {},
   "outputs": [
    {
     "name": "stdout",
     "output_type": "stream",
     "text": [
      "Sum of given array is :  15\n"
     ]
    }
   ],
   "source": [
    "def sum_arr(arr):\n",
    "    sum =0 \n",
    "    for i in range(0,len(arr)):\n",
    "        sum = sum + arr[i]\n",
    "    print(\"Sum of given array is : \",sum)\n",
    "    \n",
    "\n",
    "sum_arr([1,2,3,4,5])"
   ]
  },
  {
   "cell_type": "markdown",
   "id": "1686e935",
   "metadata": {},
   "source": [
    "-----------------------------"
   ]
  },
  {
   "cell_type": "markdown",
   "id": "fce35267",
   "metadata": {},
   "source": [
    "2. Write a Python Program to find largest element in an array?\n"
   ]
  },
  {
   "cell_type": "code",
   "execution_count": 24,
   "id": "3e8ae4ac",
   "metadata": {},
   "outputs": [
    {
     "name": "stdout",
     "output_type": "stream",
     "text": [
      "203 is the largest element of array \n"
     ]
    }
   ],
   "source": [
    "def larg_arr(arr):\n",
    "    largest = arr[0]\n",
    "    for i in arr:\n",
    "        if i >= largest :\n",
    "                largest = i\n",
    "    print(f\"{largest} is the largest element of array \")\n",
    "\n",
    "    \n",
    "larg_arr([141,2,35,84,3,203,20,1])"
   ]
  },
  {
   "cell_type": "markdown",
   "id": "6d150261",
   "metadata": {},
   "source": [
    "-----------------------------"
   ]
  },
  {
   "cell_type": "markdown",
   "id": "e405f267",
   "metadata": {},
   "source": [
    "3. Write a Python Program for array rotation?\n"
   ]
  },
  {
   "cell_type": "code",
   "execution_count": 49,
   "id": "0a12b20b",
   "metadata": {},
   "outputs": [
    {
     "name": "stdout",
     "output_type": "stream",
     "text": [
      "original array: [10, 21, 3, 45, 59, 6]\n",
      "rotated array: [6, 59, 45, 3, 21, 10]\n"
     ]
    }
   ],
   "source": [
    "def rot(arr):\n",
    "    l=[]\n",
    "    for i in range(len(arr)-1,-1,-1):\n",
    "        l.append(arr[i])\n",
    "    print(\"original array:\", arr)\n",
    "    print(\"rotated array:\",l)\n",
    "    \n",
    "    \n",
    "rot([10,21,3,45,59,6])"
   ]
  },
  {
   "cell_type": "markdown",
   "id": "7a0d9caa",
   "metadata": {},
   "source": [
    "-------------------------------"
   ]
  },
  {
   "cell_type": "markdown",
   "id": "623cbc25",
   "metadata": {},
   "source": [
    "4. Write a Python Program to Split the array and add the first part to the end?\n"
   ]
  },
  {
   "cell_type": "code",
   "execution_count": 72,
   "id": "a6dd1391",
   "metadata": {},
   "outputs": [
    {
     "name": "stdout",
     "output_type": "stream",
     "text": [
      "enter the number of elements to split: 2\n",
      "array after spolit and add:  [10, 38, 'dog', 23, 1, 'ok', 'cat', 49]\n"
     ]
    }
   ],
   "source": [
    "def arr_split(arr):\n",
    "    n= int(input(\"enter the number of elements to split: \"))\n",
    "    arr= (arr[n:len(arr)] + arr[:n])\n",
    "    print(\"array after spolit and add: \",arr)\n",
    "\n",
    "arr_split(['cat',49,10,38,'dog',23,1,'ok'])\n",
    "    \n"
   ]
  },
  {
   "cell_type": "markdown",
   "id": "308bca9c",
   "metadata": {},
   "source": [
    "------------------------------------"
   ]
  },
  {
   "cell_type": "markdown",
   "id": "9bdeed98",
   "metadata": {},
   "source": [
    "5. Write a Python Program to check if given array is Monotonic?"
   ]
  },
  {
   "cell_type": "code",
   "execution_count": 74,
   "id": "65d8464f",
   "metadata": {},
   "outputs": [
    {
     "name": "stdout",
     "output_type": "stream",
     "text": [
      "True\n"
     ]
    }
   ],
   "source": [
    "def Monotonic(A): \n",
    "    return (all(A[i] <= A[i + 1] for i in range(len(A) - 1)) or\n",
    "            all(A[i] >= A[i + 1] for i in range(len(A) - 1)))\n",
    "A = [6, 5, 4, 4]\n",
    "print(Monotonic(A))"
   ]
  },
  {
   "cell_type": "markdown",
   "id": "6b1a3432",
   "metadata": {},
   "source": [
    "------------------------------"
   ]
  }
 ],
 "metadata": {
  "kernelspec": {
   "display_name": "Python 3 (ipykernel)",
   "language": "python",
   "name": "python3"
  },
  "language_info": {
   "codemirror_mode": {
    "name": "ipython",
    "version": 3
   },
   "file_extension": ".py",
   "mimetype": "text/x-python",
   "name": "python",
   "nbconvert_exporter": "python",
   "pygments_lexer": "ipython3",
   "version": "3.9.12"
  }
 },
 "nbformat": 4,
 "nbformat_minor": 5
}
