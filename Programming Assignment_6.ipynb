{
 "cells": [
  {
   "cell_type": "markdown",
   "id": "5288bf5a",
   "metadata": {},
   "source": [
    "1. Write a Python Program to Display Fibonacci Sequence Using Recursion?\n"
   ]
  },
  {
   "cell_type": "code",
   "execution_count": 7,
   "id": "17ec38c8",
   "metadata": {},
   "outputs": [
    {
     "name": "stdout",
     "output_type": "stream",
     "text": [
      "Enter any number : 10\n",
      "0\n",
      "1\n",
      "1\n",
      "2\n",
      "3\n",
      "5\n",
      "8\n",
      "13\n",
      "21\n",
      "34\n"
     ]
    }
   ],
   "source": [
    "\n",
    "def fib(n):\n",
    "    if n<=1:\n",
    "        return n\n",
    "    else:\n",
    "        return fib(n-1) + fib(n-2)\n",
    "\n",
    "num = int(input(\"Enter any number : \"))\n",
    "\n",
    "if num <=0:\n",
    "    print(\" Invalid number.\")\n",
    "\n",
    "else:\n",
    "    for i in range(num):\n",
    "        print(fib(i))\n",
    "       "
   ]
  },
  {
   "cell_type": "markdown",
   "id": "16f389a0",
   "metadata": {},
   "source": [
    "-------------------------------------"
   ]
  },
  {
   "cell_type": "markdown",
   "id": "0718bf20",
   "metadata": {},
   "source": [
    "2. Write a Python Program to Find Factorial of Number Using Recursion?\n"
   ]
  },
  {
   "cell_type": "code",
   "execution_count": 9,
   "id": "e3910876",
   "metadata": {},
   "outputs": [
    {
     "name": "stdout",
     "output_type": "stream",
     "text": [
      "Enter a number: 10\n",
      "The factorial of 10 is  3628800\n"
     ]
    }
   ],
   "source": [
    "#factorial : 1 X 2 X 3 X 4.......X n\n",
    "def fact(n):\n",
    "    if n == 1:\n",
    "        return n\n",
    "    else:\n",
    "        return n*fact(n-1)\n",
    "\n",
    "num = int(input(\"Enter a number: \"))\n",
    "if num < 0:\n",
    "    print(\"invalid number\")\n",
    "elif num == 0:\n",
    "    print(\"The factorial of 0 is 1\")\n",
    "else:\n",
    "    print(f\"The factorial of {num} is  {fact(num)}\")"
   ]
  },
  {
   "cell_type": "markdown",
   "id": "57531524",
   "metadata": {},
   "source": [
    "-------------------------------"
   ]
  },
  {
   "cell_type": "markdown",
   "id": "591ffbaa",
   "metadata": {},
   "source": [
    "3. Write a Python Program to calculate your Body Mass Index?\n"
   ]
  },
  {
   "cell_type": "code",
   "execution_count": 23,
   "id": "aa2fc1e7",
   "metadata": {},
   "outputs": [
    {
     "name": "stdout",
     "output_type": "stream",
     "text": [
      "enter your height in feet : 5.5\n",
      "enter your weight in kilo : 75\n",
      "Your  BMI is =  2.479338842975207\n"
     ]
    }
   ],
   "source": [
    "# BMI = weight / Height * height\n",
    "def bmi():    \n",
    "    h = float(input(\"enter your height in feet : \"))\n",
    "    w = float(input(\"enter your weight in kilo : \"))\n",
    "    bmi = w/(h**2)\n",
    "    \n",
    "    if h <=0 or w <= 0:\n",
    "        print(\"invalid height or weight\")\n",
    "    else:\n",
    "        print(\"Your  BMI is = \",bmi)\n",
    "    \n",
    "bmi()"
   ]
  },
  {
   "cell_type": "markdown",
   "id": "0abb686d",
   "metadata": {},
   "source": [
    "------------------------"
   ]
  },
  {
   "cell_type": "markdown",
   "id": "acf61c07",
   "metadata": {},
   "source": [
    "4. Write a Python Program to calculate the natural logarithm of any number?\n"
   ]
  },
  {
   "cell_type": "code",
   "execution_count": 28,
   "id": "4fb943e7",
   "metadata": {},
   "outputs": [
    {
     "name": "stdout",
     "output_type": "stream",
     "text": [
      "Enter any number: 12.5\n",
      "Logarithm of 12.5 :  2.5257286443082556\n"
     ]
    }
   ],
   "source": [
    "import math\n",
    "num = float(input(\"Enter any number: \"))\n",
    "print (f\"Logarithm of {num} :  {math.log(num)}\")"
   ]
  },
  {
   "cell_type": "markdown",
   "id": "46e08f52",
   "metadata": {},
   "source": [
    "-------------------------"
   ]
  },
  {
   "cell_type": "markdown",
   "id": "f524c812",
   "metadata": {},
   "source": [
    "5. Write a Python Program for cube sum of first n natural numbers?"
   ]
  },
  {
   "cell_type": "code",
   "execution_count": 35,
   "id": "536587ff",
   "metadata": {},
   "outputs": [
    {
     "name": "stdout",
     "output_type": "stream",
     "text": [
      "Enter a no :10\n",
      "Cube sum of 10  is 3025\n"
     ]
    }
   ],
   "source": [
    "num = int(input(\"Enter a no :\"))\n",
    "sum = 0\n",
    "for i in range(1 , num+1):\n",
    "    sum = sum + i**3\n",
    "print(f\"Cube sum of {num}  is {sum}\") "
   ]
  },
  {
   "cell_type": "markdown",
   "id": "cf4e4ba2",
   "metadata": {},
   "source": [
    "--------------------"
   ]
  }
 ],
 "metadata": {
  "kernelspec": {
   "display_name": "Python 3 (ipykernel)",
   "language": "python",
   "name": "python3"
  },
  "language_info": {
   "codemirror_mode": {
    "name": "ipython",
    "version": 3
   },
   "file_extension": ".py",
   "mimetype": "text/x-python",
   "name": "python",
   "nbconvert_exporter": "python",
   "pygments_lexer": "ipython3",
   "version": "3.9.12"
  }
 },
 "nbformat": 4,
 "nbformat_minor": 5
}
