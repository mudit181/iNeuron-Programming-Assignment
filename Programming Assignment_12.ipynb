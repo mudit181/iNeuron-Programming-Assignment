{
 "cells": [
  {
   "cell_type": "markdown",
   "id": "6d00f2bd",
   "metadata": {},
   "source": [
    "1. Write a Python program to Extract Unique values dictionary values?\n"
   ]
  },
  {
   "cell_type": "code",
   "execution_count": 12,
   "id": "bd863c31",
   "metadata": {},
   "outputs": [
    {
     "name": "stdout",
     "output_type": "stream",
     "text": [
      "The original dictionary is :  {'a': [20, 36, 2, 11], 'b': [86, 23, 4, 5], 'c': [1, 3, 10, 18], 'd': [50, 42, 15]}\n",
      "The unique values list is :  [1, 2, 3, 4, 5, 10, 11, 15, 18, 20, 23, 36, 42, 50, 86]\n"
     ]
    }
   ],
   "source": [
    "dict1 = {'a' : [20, 36, 2, 11],\n",
    "            'b' : [86, 23, 4, 5],\n",
    "            'c' : [1, 3, 10, 18],\n",
    "            'd' : [50, 42, 15]}\n",
    " \n",
    "\n",
    "print(\"The original dictionary is : \" ,dict1)\n",
    " \n",
    "x=[]\n",
    "for i in dict1.keys():\n",
    "    x.extend(dict1[i])\n",
    "x.sort()\n",
    "\n",
    "print(\"The unique values list is : \", x)"
   ]
  },
  {
   "cell_type": "markdown",
   "id": "cc708e26",
   "metadata": {},
   "source": [
    "\n",
    "-------------------------"
   ]
  },
  {
   "cell_type": "markdown",
   "id": "c20dfcc2",
   "metadata": {},
   "source": [
    "2. Write a Python program to find the sum of all items in a dictionary?\n"
   ]
  },
  {
   "cell_type": "code",
   "execution_count": 16,
   "id": "aa368e39",
   "metadata": {},
   "outputs": [
    {
     "name": "stdout",
     "output_type": "stream",
     "text": [
      "Sum of all items are : 60\n"
     ]
    }
   ],
   "source": [
    "dict2 = {'a' : 10,\n",
    "             'b' : 5,\n",
    "             'c' : 20,\n",
    "             'd' : 25}\n",
    "\n",
    "sum = 0\n",
    "for i in dict2.values():\n",
    "    sum =sum + i\n",
    "print(f\"Sum of all items are : {sum}\")"
   ]
  },
  {
   "cell_type": "markdown",
   "id": "8ed2da55",
   "metadata": {},
   "source": [
    "----------------------"
   ]
  },
  {
   "cell_type": "markdown",
   "id": "74f52256",
   "metadata": {},
   "source": [
    "3. Write a Python program to Merging two Dictionaries?\n"
   ]
  },
  {
   "cell_type": "code",
   "execution_count": 24,
   "id": "afb539ac",
   "metadata": {},
   "outputs": [
    {
     "data": {
      "text/plain": [
       "{'a': 1, 'b': 4, 'c': 'ok', 'r': 12, 'z': 10, 'x': 'done'}"
      ]
     },
     "execution_count": 24,
     "metadata": {},
     "output_type": "execute_result"
    }
   ],
   "source": [
    "d1={'a':1,'b':4,'c':'ok'}\n",
    "d2={'r':12,'z':10,'x':'done'}\n",
    "d1|d2\n"
   ]
  },
  {
   "cell_type": "code",
   "execution_count": 25,
   "id": "ab441f09",
   "metadata": {},
   "outputs": [
    {
     "data": {
      "text/plain": [
       "{'x': 4,\n",
       " 'z': 'cat',\n",
       " 'n': {'q': 'python', 's': 'java'},\n",
       " 'a': 2,\n",
       " 'b': 10,\n",
       " 'c': 20}"
      ]
     },
     "execution_count": 25,
     "metadata": {},
     "output_type": "execute_result"
    }
   ],
   "source": [
    "dict_1 = {'a': 2,'b':10,'c':20}\n",
    "dict_2 = {'x': 4,\n",
    "          'z':'cat',\n",
    "          'n':{'q':\"python\",'s':'java'}}\n",
    "\n",
    "dict_3 = dict_2.copy()\n",
    "dict_3.update(dict_1)\n",
    "\n",
    "dict_3"
   ]
  },
  {
   "cell_type": "markdown",
   "id": "2ff9de6f",
   "metadata": {},
   "source": [
    "-------------------------"
   ]
  },
  {
   "cell_type": "markdown",
   "id": "617284d6",
   "metadata": {},
   "source": [
    "4. Write a Python program to convert key-values list to flat dictionary?\n"
   ]
  },
  {
   "cell_type": "code",
   "execution_count": 28,
   "id": "75feecc5",
   "metadata": {},
   "outputs": [
    {
     "name": "stdout",
     "output_type": "stream",
     "text": [
      "The original dictionary is :  {'month': [1, 2, 3], 'name': ['Jan', 'Feb', 'March']}\n",
      "Flattened dictionary :  {1: 'Jan', 2: 'Feb', 3: 'March'}\n"
     ]
    }
   ],
   "source": [
    "test_dict = {'month' : [1, 2, 3],\n",
    "             'name' : ['Jan', 'Feb', 'March']}\n",
    "  \n",
    "\n",
    "print(\"The original dictionary is : \",test_dict)\n",
    "  \n",
    "# Convert key-values list to flat dictionary\n",
    "# Using dict() + zip()\n",
    "new = dict(zip(test_dict['month'], test_dict['name']))\n",
    "  \n",
    "\n",
    "print(\"Flattened dictionary : \", new)"
   ]
  },
  {
   "cell_type": "markdown",
   "id": "4af3b350",
   "metadata": {},
   "source": [
    "---------------------"
   ]
  },
  {
   "cell_type": "markdown",
   "id": "64dee76c",
   "metadata": {},
   "source": [
    "5. Write a Python program to insertion at the beginning in OrderedDict?\n"
   ]
  },
  {
   "cell_type": "code",
   "execution_count": 29,
   "id": "1e32c404",
   "metadata": {},
   "outputs": [
    {
     "name": "stdout",
     "output_type": "stream",
     "text": [
      "Ordered Dictionary  :  OrderedDict([('Jan', '1'), ('Feb', '2'), ('Mar', '3')])\n"
     ]
    }
   ],
   "source": [
    "from collections import OrderedDict\n",
    "  \n",
    "# initialising ordered_dict\n",
    "iniordered_dict = OrderedDict([('Feb', '2'), ('Mar', '3')])\n",
    "  \n",
    "# inserting items in starting of dict \n",
    "iniordered_dict.update({'Jan':'1'})\n",
    "iniordered_dict.move_to_end('Jan', last = False)\n",
    "  \n",
    "# print result\n",
    "print (\"Ordered Dictionary  : \",iniordered_dict)"
   ]
  },
  {
   "cell_type": "markdown",
   "id": "f7f380e1",
   "metadata": {},
   "source": [
    "----------------"
   ]
  },
  {
   "cell_type": "markdown",
   "id": "f98424b2",
   "metadata": {},
   "source": [
    "6. Write a Python program to check order of character in string using OrderedDict()?\n"
   ]
  },
  {
   "cell_type": "code",
   "execution_count": 30,
   "id": "d745a790",
   "metadata": {},
   "outputs": [
    {
     "name": "stdout",
     "output_type": "stream",
     "text": [
      "enter string : mudit\n",
      "Enter Pattern : it\n",
      "OrderedDict([('m', None), ('u', None), ('d', None), ('i', None), ('t', None)])\n",
      "Pattern matched\n"
     ]
    }
   ],
   "source": [
    "from collections import OrderedDict \n",
    "  \n",
    "def checkOrderofString(str, pattern): \n",
    "      \n",
    "    # create empty OrderedDict \n",
    "    dict = OrderedDict.fromkeys(str) \n",
    "    print(dict)   \n",
    "    ptrlen = 0\n",
    "    for key,value in dict.items(): \n",
    "        \n",
    "        if (key == pattern[ptrlen]): \n",
    "            ptrlen = ptrlen + 1\n",
    "          \n",
    "        # check if we have traverse complete pattern string \n",
    "        if (ptrlen == (len(pattern))):            \n",
    "            return 'true'\n",
    "  \n",
    "    # if we come out from for loop that means order was mismatched \n",
    "    return 'false'\n",
    "  \n",
    "\n",
    "string = input(\"enter string : \")\n",
    "pattern = input(\"Enter Pattern : \")\n",
    "if checkOrderofString(string,pattern):\n",
    "    print(\"Pattern matched\")\n",
    "else:\n",
    "    print(\"Pattern not matched\")"
   ]
  },
  {
   "cell_type": "markdown",
   "id": "b487f147",
   "metadata": {},
   "source": [
    "-----------------------"
   ]
  },
  {
   "cell_type": "markdown",
   "id": "1cf27c9f",
   "metadata": {},
   "source": [
    "7. Write a Python program to sort Python Dictionaries by Key or Value?"
   ]
  },
  {
   "cell_type": "code",
   "execution_count": 36,
   "id": "ec96c98d",
   "metadata": {},
   "outputs": [
    {
     "name": "stdout",
     "output_type": "stream",
     "text": [
      " sorted keys of dict : ['1', 'a', 'b', 'd', 'f', 'o']\n",
      " sorted values of dict : [1, 2, 3, 5, 5, 9]\n",
      " sorted items of dict : [('1', 5), ('a', 3), ('b', 5), ('d', 2), ('f', 1), ('o', 9)]\n"
     ]
    }
   ],
   "source": [
    "dict= {'a':3 ,\n",
    "       'b':5 ,\n",
    "       'f':1 ,\n",
    "       'o':9 ,\n",
    "       '1':5 ,\n",
    "       'd':2 }\n",
    "\n",
    "print(' sorted keys of dict :' ,sorted(dict.keys()))\n",
    "print(' sorted values of dict :',sorted(dict.values()))\n",
    "print(' sorted items of dict :',sorted(dict.items()))\n"
   ]
  },
  {
   "cell_type": "markdown",
   "id": "11821a6e",
   "metadata": {},
   "source": [
    "---------------------------"
   ]
  }
 ],
 "metadata": {
  "kernelspec": {
   "display_name": "Python 3 (ipykernel)",
   "language": "python",
   "name": "python3"
  },
  "language_info": {
   "codemirror_mode": {
    "name": "ipython",
    "version": 3
   },
   "file_extension": ".py",
   "mimetype": "text/x-python",
   "name": "python",
   "nbconvert_exporter": "python",
   "pygments_lexer": "ipython3",
   "version": "3.9.12"
  }
 },
 "nbformat": 4,
 "nbformat_minor": 5
}
