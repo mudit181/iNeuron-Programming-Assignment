{
 "cells": [
  {
   "cell_type": "markdown",
   "id": "2e4a15c9",
   "metadata": {},
   "source": [
    "Question 1:\n",
    "\n",
    "Please write a program using generator to print the numbers which can be divisible by 5 and\n",
    "7 between 0 and n in comma separated form while n is input by console.\n",
    "\n",
    "Example:\n",
    "\n",
    "If the following n is given as input to the program:\n",
    "100\n",
    "Then, the output of the program should be:\n",
    "0,35,70"
   ]
  },
  {
   "cell_type": "code",
   "execution_count": 19,
   "id": "52e5acfa",
   "metadata": {},
   "outputs": [
    {
     "name": "stdout",
     "output_type": "stream",
     "text": [
      "enter the no. :100\n",
      "0,35,70\n"
     ]
    }
   ],
   "source": [
    "def gen(n):\n",
    "    i=0\n",
    "    while i < n:\n",
    "        j = i\n",
    "        if j%5==0 and j%7==0:\n",
    "            yield j\n",
    "        i = i+1\n",
    "n= int(input('enter the no. :'))\n",
    "num = []\n",
    "for i in gen(n):\n",
    "#     print(i)\n",
    "    num.append(str(i))\n",
    "print(','.join(num))"
   ]
  },
  {
   "cell_type": "code",
   "execution_count": 20,
   "id": "e33eb27e",
   "metadata": {},
   "outputs": [
    {
     "data": {
      "text/plain": [
       "<generator object gen at 0x000001E4E7611820>"
      ]
     },
     "execution_count": 20,
     "metadata": {},
     "output_type": "execute_result"
    }
   ],
   "source": [
    "gen(100)"
   ]
  },
  {
   "cell_type": "markdown",
   "id": "009a3a59",
   "metadata": {},
   "source": [
    "----------------------"
   ]
  },
  {
   "cell_type": "markdown",
   "id": "ed76ee53",
   "metadata": {},
   "source": [
    "Question 2:\n",
    "    \n",
    "Please write a program using generator to print the even numbers between 0 and n in comma\n",
    "separated form while n is input by console.\n",
    "\n",
    "Example:\n",
    "    \n",
    "If the following n is given as input to the program:\n",
    "10\n",
    "\n",
    "Then, the output of the program should be:\n",
    "0,2,4,6,8,10"
   ]
  },
  {
   "cell_type": "code",
   "execution_count": 25,
   "id": "47164bb1",
   "metadata": {},
   "outputs": [
    {
     "name": "stdout",
     "output_type": "stream",
     "text": [
      "enter the no. :10\n",
      "0,2,4,6,8,10\n"
     ]
    }
   ],
   "source": [
    "def gen1(n):\n",
    "    i=0\n",
    "    while i < n:\n",
    "        j = i\n",
    "        if j%2==0:\n",
    "            yield j\n",
    "        i = i+1\n",
    "n= int(input('enter the no. :'))\n",
    "num=[]\n",
    "for i in gen1(n+1):\n",
    "    num.append(str(i))\n",
    "print(','.join(num))"
   ]
  },
  {
   "cell_type": "markdown",
   "id": "258a2e90",
   "metadata": {},
   "source": [
    "---------------------"
   ]
  },
  {
   "cell_type": "markdown",
   "id": "0ee8f70e",
   "metadata": {},
   "source": [
    "Question 3:\n",
    "\n",
    "The Fibonacci Sequence is computed based on the following formula:\n",
    "\n",
    "f(n)=0 if n=0\n",
    "\n",
    "f(n)=1 if n=1\n",
    "\n",
    "f(n)=f(n-1)+f(n-2) if n&gt;1\n",
    "\n",
    "Please write a program using list comprehension to print the Fibonacci Sequence in comma\n",
    "separated form with a given n input by console.\n",
    "\n",
    "Example:\n",
    "\n",
    "If the following n is given as input to the program:\n",
    "7\n",
    "\n",
    "Then, the output of the program should be:\n",
    "0,1,1,2,3,5,8,13"
   ]
  },
  {
   "cell_type": "code",
   "execution_count": 28,
   "id": "9b2ef4a5",
   "metadata": {},
   "outputs": [
    {
     "name": "stdout",
     "output_type": "stream",
     "text": [
      "Enter a number :7\n",
      "0,1,1,2,3,5,8,13\n"
     ]
    }
   ],
   "source": [
    "def fib(n): \n",
    "    if n == 0:\n",
    "        return 0   \n",
    "    elif n == 1:\n",
    "        return 1   \n",
    "    else:\n",
    "        return fib(n-1)+fib(n-2)\n",
    "n=int(input('Enter a number :'))\n",
    "values = [str(fib(x)) for x in range(0, n+1)]\n",
    "print(\",\".join(values))"
   ]
  },
  {
   "cell_type": "markdown",
   "id": "b8190268",
   "metadata": {},
   "source": [
    "----------------------------"
   ]
  },
  {
   "cell_type": "markdown",
   "id": "33359b2b",
   "metadata": {},
   "source": [
    "Question 4:\n",
    "    \n",
    "Assuming that we have some email addresses in the &quot;username@companyname.com&quot; format,\n",
    "please write program to print the user name of a given email address. Both user names and\n",
    "company names are composed of letters only.\n",
    "\n",
    "Example:\n",
    "    \n",
    "If the following email address is given as input to the program:\n",
    "john@google.com\n",
    "\n",
    "Then, the output of the program should be:\n",
    "john"
   ]
  },
  {
   "cell_type": "code",
   "execution_count": 29,
   "id": "8cdc5be7",
   "metadata": {},
   "outputs": [
    {
     "name": "stdout",
     "output_type": "stream",
     "text": [
      "Enter the email address : mudit@iNeuron.com\n",
      "User name :  mudit\n",
      "Company name :  iNeuron\n"
     ]
    }
   ],
   "source": [
    "email = input(\"Enter the email address : \").split('@')\n",
    "company = str(email[1]).split('.')\n",
    "print(\"User name : \",email[0])\n",
    "print(\"Company name : \",company[0])"
   ]
  },
  {
   "cell_type": "markdown",
   "id": "d704cb85",
   "metadata": {},
   "source": [
    "-----------------------"
   ]
  },
  {
   "cell_type": "markdown",
   "id": "cb98cc52",
   "metadata": {},
   "source": [
    "Question 5:\n",
    "    \n",
    "Define a class named Shape and its subclass Square. The Square class has an init function\n",
    "which takes a length as argument. Both classes have a area function which can print the area\n",
    "of the shape where Shape&#39;s area is 0 by default."
   ]
  },
  {
   "cell_type": "code",
   "execution_count": 42,
   "id": "3731b748",
   "metadata": {},
   "outputs": [
    {
     "name": "stdout",
     "output_type": "stream",
     "text": [
      "25\n",
      "0\n"
     ]
    }
   ],
   "source": [
    "class Shape:\n",
    "    def __init__(self,length):\n",
    "        self.length = length\n",
    "    \n",
    "    def area(self):\n",
    "        return 0\n",
    "    \n",
    "class Square:\n",
    "    def __init__(self,length):\n",
    "        self.length = length\n",
    "        \n",
    "    def area(self):\n",
    "        return self.length * self.length\n",
    "        \n",
    "    \n",
    "a = Square(5)\n",
    "print(a.area())\n",
    "\n",
    "a= Shape(5)\n",
    "print(a.area())"
   ]
  },
  {
   "cell_type": "markdown",
   "id": "44f6fb9d",
   "metadata": {},
   "source": [
    "------------------------"
   ]
  }
 ],
 "metadata": {
  "kernelspec": {
   "display_name": "Python 3 (ipykernel)",
   "language": "python",
   "name": "python3"
  },
  "language_info": {
   "codemirror_mode": {
    "name": "ipython",
    "version": 3
   },
   "file_extension": ".py",
   "mimetype": "text/x-python",
   "name": "python",
   "nbconvert_exporter": "python",
   "pygments_lexer": "ipython3",
   "version": "3.9.12"
  }
 },
 "nbformat": 4,
 "nbformat_minor": 5
}
