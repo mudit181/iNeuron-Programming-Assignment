{
 "cells": [
  {
   "cell_type": "markdown",
   "id": "c9b18455",
   "metadata": {},
   "source": [
    "Question1. Write a function that stutters a word as if someone is struggling to read it. The\n",
    "first two letters are repeated twice with an ellipsis ... and space after each, and then the\n",
    "word is pronounced with a question mark ?.\n",
    "\n",
    "Examples\n",
    "\n",
    "stutter(&quot;incredible&quot;) ➞ &quot;in... in... incredible?&quot;\n",
    "\n",
    "stutter(&quot;enthusiastic&quot;) ➞ &quot;en... en... enthusiastic?&quot;\n",
    "\n",
    "stutter(&quot;outstanding&quot;) ➞ &quot;ou... ou... outstanding?&quot;\n",
    "\n",
    "Hint :- Assume all input is in lower case and at least two characters long."
   ]
  },
  {
   "cell_type": "code",
   "execution_count": 7,
   "id": "4363192b",
   "metadata": {},
   "outputs": [
    {
     "name": "stdout",
     "output_type": "stream",
     "text": [
      "Enter word : iNeuron\n",
      "iN...iN...iNeuron?\n"
     ]
    }
   ],
   "source": [
    "def stutter(word):\n",
    "    return (2*(word[0:2]+'...')) + word +'?'\n",
    "word = input('Enter word : ')\n",
    "print(stutter(word))"
   ]
  },
  {
   "cell_type": "code",
   "execution_count": 5,
   "id": "786b9409",
   "metadata": {},
   "outputs": [
    {
     "data": {
      "text/plain": [
       "'ou...ou...outstanding?'"
      ]
     },
     "execution_count": 5,
     "metadata": {},
     "output_type": "execute_result"
    }
   ],
   "source": [
    "stutter('outstanding')"
   ]
  },
  {
   "cell_type": "markdown",
   "id": "44e8e6f7",
   "metadata": {},
   "source": [
    "------------"
   ]
  },
  {
   "cell_type": "markdown",
   "id": "4a0e3bb4",
   "metadata": {},
   "source": [
    "Question 2.Create a function that takes an angle in radians and returns the corresponding\n",
    "angle in degrees rounded to one decimal place.\n",
    "\n",
    "Examples\n",
    "\n",
    "radians_to_degrees(1) ➞ 57.3\n",
    "\n",
    "radians_to_degrees(20) ➞ 1145.9\n",
    "\n",
    "radians_to_degrees(50) ➞ 2864.8"
   ]
  },
  {
   "cell_type": "code",
   "execution_count": 7,
   "id": "a9f43f29",
   "metadata": {},
   "outputs": [
    {
     "name": "stdout",
     "output_type": "stream",
     "text": [
      "enter a no. :30\n"
     ]
    },
    {
     "data": {
      "text/plain": [
       "1718.8748372639334"
      ]
     },
     "execution_count": 7,
     "metadata": {},
     "output_type": "execute_result"
    }
   ],
   "source": [
    "def radians_to_degrees(radian):\n",
    "    pi = 3.14159\n",
    "    degree = radian * (180/pi)\n",
    "    return degree\n",
    "radian = int(input('enter a no. :'))\n",
    "radians_to_degrees(radian)"
   ]
  },
  {
   "cell_type": "code",
   "execution_count": 8,
   "id": "028d5c08",
   "metadata": {},
   "outputs": [
    {
     "data": {
      "text/plain": [
       "2291.833116351911"
      ]
     },
     "execution_count": 8,
     "metadata": {},
     "output_type": "execute_result"
    }
   ],
   "source": [
    "radians_to_degrees(40)"
   ]
  },
  {
   "cell_type": "markdown",
   "id": "d58192a2",
   "metadata": {},
   "source": [
    "-----------------------"
   ]
  },
  {
   "cell_type": "markdown",
   "id": "c389e3f2",
   "metadata": {},
   "source": [
    "Question 3. In this challenge, establish if a given integer num is a Curzon number. If 1 plus\n",
    "2 elevated to num is exactly divisible by 1 plus 2 multiplied by num, then num is a Curzon\n",
    "number.\n",
    "Given a non-negative integer num, implement a function that returns True if num is a Curzon\n",
    "number, or False otherwise.\n",
    "Examples\n",
    "is_curzon(5) ➞ True\n",
    "#2 ** 5 + 1 = 33\n",
    "#2 * 5 + 1 = 11\n",
    "#33 is a multiple of 11\n",
    "is_curzon(10) ➞ False\n",
    "#2 ** 10 + 1 = 1025\n",
    "#2 * 10 + 1 = 21\n",
    "#1025 is not a multiple of 21\n",
    "is_curzon(14) ➞ True\n",
    "#2 ** 14 + 1 = 16385\n",
    "#2 * 14 + 1 = 29\n",
    "#16385 is a multiple of 29"
   ]
  },
  {
   "cell_type": "code",
   "execution_count": 9,
   "id": "33cd9eaa",
   "metadata": {},
   "outputs": [
    {
     "name": "stdout",
     "output_type": "stream",
     "text": [
      "Enter a number : 10\n",
      "10 is not a Curzon Number\n"
     ]
    }
   ],
   "source": [
    "def CurzonNumber(n):\n",
    " \n",
    "    power, product = 0, 0\n",
    " \n",
    "    # Find 2**n + 1\n",
    "    power = pow(2, n) + 1\n",
    " \n",
    "    # Find 2*n + 1\n",
    "    product = 2 * n + 1\n",
    " \n",
    "    # Check for divisibility\n",
    "    if (power % product == 0):\n",
    "        print(n, \"is Curzon Number\")\n",
    "    else:\n",
    "        print(n, \"is not a Curzon Number\")\n",
    "        \n",
    "n = int(input('Enter a number : '))\n",
    "CurzonNumber(n)"
   ]
  },
  {
   "cell_type": "code",
   "execution_count": 12,
   "id": "14c512ef",
   "metadata": {},
   "outputs": [
    {
     "name": "stdout",
     "output_type": "stream",
     "text": [
      "21 is Curzon Number\n"
     ]
    }
   ],
   "source": [
    " CurzonNumber(21)"
   ]
  },
  {
   "cell_type": "markdown",
   "id": "0eed7d6e",
   "metadata": {},
   "source": [
    "--------------------"
   ]
  },
  {
   "cell_type": "markdown",
   "id": "e7e6eee6",
   "metadata": {},
   "source": [
    "Question 4.Given the side length x find the area of a hexagon.\n",
    "\n",
    "Examples:\n",
    "    \n",
    "area_of_hexagon(1) ➞ 2.6 \n",
    "\n",
    "area_of_hexagon(2) ➞ 10.4\n",
    "\n",
    "area_of_hexagon(3) ➞ 23.4"
   ]
  },
  {
   "cell_type": "code",
   "execution_count": 13,
   "id": "1bdfe18e",
   "metadata": {},
   "outputs": [
    {
     "name": "stdout",
     "output_type": "stream",
     "text": [
      "Enter the length : 3\n",
      "Area: 23.382685902179844\n"
     ]
    }
   ],
   "source": [
    "import math\n",
    "def area_of_hexagon(s):     \n",
    "    return ((3 * math.sqrt(3) * (sideLength * sideLength)) / 2);\n",
    "     \n",
    "sideLength = float(input('Enter the length : '))\n",
    "\n",
    "print(f\"Area: {area_of_hexagon(sideLength)}\")"
   ]
  },
  {
   "cell_type": "markdown",
   "id": "4438eb7c",
   "metadata": {},
   "source": [
    "-----------------"
   ]
  },
  {
   "cell_type": "markdown",
   "id": "1b78d0fb",
   "metadata": {},
   "source": [
    "Question 5. Create a function that returns a base-2 (binary) representation of a base-10\n",
    "(decimal) string number. To convert is simple: ((2) means base-2 and (10) means base-10)\n",
    "010101001(2) = 1 + 8 + 32 + 128.\n",
    "Going from right to left, the value of the most right bit is 1, now from that every bit to the left\n",
    "will be x2 the value, value of an 8 bit binary numbers are (256, 128, 64, 32, 16, 8, 4, 2, 1).\n",
    "Examples\n",
    "\n",
    "binary(1) ➞ &quot;1&quot;\n",
    "#1*1 = 1\n",
    "\n",
    "binary(5) ➞ &quot;101&quot;\n",
    "#1*1 + 1*4 = 5\n",
    "\n",
    "binary(10) ➞ &quot;1010&quot;\n",
    "#1*2 + 1*8 = 10"
   ]
  },
  {
   "cell_type": "code",
   "execution_count": 4,
   "id": "ec5a7fbc",
   "metadata": {},
   "outputs": [
    {
     "name": "stdout",
     "output_type": "stream",
     "text": [
      "0\n",
      "1\n",
      "10\n",
      "11\n",
      "100\n"
     ]
    }
   ],
   "source": [
    "def decimal_to_Binary(n):\n",
    "    return bin(n).replace(\"0b\", \"\")\n",
    "   \n",
    "for i in range(0,5):\n",
    "    print(decimal_to_Binary(i))"
   ]
  },
  {
   "cell_type": "code",
   "execution_count": 6,
   "id": "e9e43f80",
   "metadata": {},
   "outputs": [
    {
     "data": {
      "text/plain": [
       "'1010'"
      ]
     },
     "execution_count": 6,
     "metadata": {},
     "output_type": "execute_result"
    }
   ],
   "source": [
    "decimal_to_Binary(10)"
   ]
  },
  {
   "cell_type": "markdown",
   "id": "0f6a015d",
   "metadata": {},
   "source": [
    "-------------"
   ]
  }
 ],
 "metadata": {
  "kernelspec": {
   "display_name": "Python 3 (ipykernel)",
   "language": "python",
   "name": "python3"
  },
  "language_info": {
   "codemirror_mode": {
    "name": "ipython",
    "version": 3
   },
   "file_extension": ".py",
   "mimetype": "text/x-python",
   "name": "python",
   "nbconvert_exporter": "python",
   "pygments_lexer": "ipython3",
   "version": "3.9.12"
  }
 },
 "nbformat": 4,
 "nbformat_minor": 5
}
