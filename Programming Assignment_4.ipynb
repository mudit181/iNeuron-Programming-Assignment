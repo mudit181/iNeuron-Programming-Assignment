{
 "cells": [
  {
   "cell_type": "markdown",
   "id": "8ea7b9c1",
   "metadata": {},
   "source": [
    "1. Write a Python Program to Find the Factorial of a Number?\n"
   ]
  },
  {
   "cell_type": "code",
   "execution_count": 10,
   "id": "8f9d1220",
   "metadata": {},
   "outputs": [
    {
     "name": "stdout",
     "output_type": "stream",
     "text": [
      "Enter the number: 5\n",
      "The factorial of 5 is 120\n"
     ]
    }
   ],
   "source": [
    "# n! = 1 X 2 X 3 X ..... X n\n",
    "\n",
    "num = int(input(\"Enter the number: \"))\n",
    "factorial = 1\n",
    "for i in range(1, num+1):\n",
    "    factorial = factorial * i\n",
    "\n",
    "print(f\"The factorial of {num} is {factorial}\")"
   ]
  },
  {
   "cell_type": "markdown",
   "id": "56762d07",
   "metadata": {},
   "source": [
    "-----------------------"
   ]
  },
  {
   "cell_type": "markdown",
   "id": "60e3bcd5",
   "metadata": {},
   "source": [
    "2. Write a Python Program to Display the multiplication Table?\n"
   ]
  },
  {
   "cell_type": "code",
   "execution_count": 19,
   "id": "0ee4103f",
   "metadata": {},
   "outputs": [],
   "source": [
    "\n",
    "def multi_tbl():\n",
    "    num = int(input(\"enter any number: \"))\n",
    "    for i in range(1,11):\n",
    "        print(f'{num} X {i} = {num*i}')\n",
    "        "
   ]
  },
  {
   "cell_type": "code",
   "execution_count": 22,
   "id": "6cb5348e",
   "metadata": {},
   "outputs": [
    {
     "name": "stdout",
     "output_type": "stream",
     "text": [
      "enter any number: 5\n",
      "5 X 1 = 5\n",
      "5 X 2 = 10\n",
      "5 X 3 = 15\n",
      "5 X 4 = 20\n",
      "5 X 5 = 25\n",
      "5 X 6 = 30\n",
      "5 X 7 = 35\n",
      "5 X 8 = 40\n",
      "5 X 9 = 45\n",
      "5 X 10 = 50\n"
     ]
    }
   ],
   "source": [
    "multi_tbl()    "
   ]
  },
  {
   "cell_type": "markdown",
   "id": "f81f373e",
   "metadata": {},
   "source": [
    "-------------------------------"
   ]
  },
  {
   "cell_type": "markdown",
   "id": "066c5fdc",
   "metadata": {},
   "source": [
    "3. Write a Python Program to Print the Fibonacci sequence?\n"
   ]
  },
  {
   "cell_type": "code",
   "execution_count": 28,
   "id": "aeb88401",
   "metadata": {},
   "outputs": [],
   "source": [
    "# Fibonacci sequence = 1, 1, 2, 3, 5,8,13........\n",
    "def fibseq(n):\n",
    "    a = 1\n",
    "    b = 1\n",
    "    l =[]\n",
    "    for i in range(n):\n",
    "        l.append(a)\n",
    "        a , b = b , a+b\n",
    "    return l "
   ]
  },
  {
   "cell_type": "code",
   "execution_count": 32,
   "id": "0a30c420",
   "metadata": {},
   "outputs": [
    {
     "data": {
      "text/plain": [
       "[1, 1, 2, 3, 5, 8, 13, 21, 34, 55]"
      ]
     },
     "execution_count": 32,
     "metadata": {},
     "output_type": "execute_result"
    }
   ],
   "source": [
    "fibseq(10)"
   ]
  },
  {
   "cell_type": "markdown",
   "id": "f8f7f2f0",
   "metadata": {},
   "source": [
    "--------------------------"
   ]
  },
  {
   "cell_type": "markdown",
   "id": "3f044937",
   "metadata": {},
   "source": [
    "4. Write a Python Program to Check Armstrong Number?\n"
   ]
  },
  {
   "cell_type": "code",
   "execution_count": 44,
   "id": "1dca916e",
   "metadata": {},
   "outputs": [
    {
     "name": "stdout",
     "output_type": "stream",
     "text": [
      "Enter the number : 153\n",
      "Number is armstrong number\n"
     ]
    }
   ],
   "source": [
    "def armstrong():\n",
    "    num = int(input(\"Enter the number : \"))\n",
    "    power = len(str(num))\n",
    "\n",
    "    y = num\n",
    "    sum = 0\n",
    "    while y > 0: \n",
    "        digit = y % 10\n",
    "        sum = sum + digit ** power\n",
    "        y = y//10\n",
    "    if num == sum :\n",
    "        print(\"Number is armstrong number\")\n",
    "    else:\n",
    "        print(\"Not an armstrong number\")\n",
    "armstrong()"
   ]
  },
  {
   "cell_type": "code",
   "execution_count": 37,
   "id": "608b89e9",
   "metadata": {},
   "outputs": [
    {
     "name": "stdout",
     "output_type": "stream",
     "text": [
      "Enter the number : 200\n",
      "Not an armstrong number\n"
     ]
    }
   ],
   "source": [
    "armstrong()"
   ]
  },
  {
   "cell_type": "markdown",
   "id": "b1f7308e",
   "metadata": {},
   "source": [
    "---------------------------"
   ]
  },
  {
   "cell_type": "markdown",
   "id": "f14d2186",
   "metadata": {},
   "source": [
    "5. Write a Python Program to Find Armstrong Number in an Interval?\n"
   ]
  },
  {
   "cell_type": "code",
   "execution_count": 45,
   "id": "a9b55858",
   "metadata": {},
   "outputs": [],
   "source": [
    "## Find Armstrong Number in an Interval\n",
    "def armstrong_interval(): \n",
    "    x = int(input(\"Low no : \"))\n",
    "    y = int(input(\"Up no : \"))\n",
    "\n",
    "\n",
    "    for i in range(x,y+1):\n",
    "        power = len(str(i))\n",
    "        temp = i\n",
    "        sum = 0\n",
    "        while temp > 0:\n",
    "            digit = temp % 10\n",
    "            sum = sum + digit ** power\n",
    "            temp = temp//10\n",
    "        if i == sum :\n",
    "            print(i)"
   ]
  },
  {
   "cell_type": "code",
   "execution_count": 47,
   "id": "fb9494a9",
   "metadata": {},
   "outputs": [
    {
     "name": "stdout",
     "output_type": "stream",
     "text": [
      "Low no : 1\n",
      "Up no : 1000\n",
      "1\n",
      "2\n",
      "3\n",
      "4\n",
      "5\n",
      "6\n",
      "7\n",
      "8\n",
      "9\n",
      "153\n",
      "370\n",
      "371\n",
      "407\n"
     ]
    }
   ],
   "source": [
    "armstrong_interval()"
   ]
  },
  {
   "cell_type": "markdown",
   "id": "53ee1c7d",
   "metadata": {},
   "source": [
    "-----------------------"
   ]
  },
  {
   "cell_type": "markdown",
   "id": "939d8256",
   "metadata": {},
   "source": [
    "6. Write a Python Program to Find the Sum of Natural Numbers?"
   ]
  },
  {
   "cell_type": "code",
   "execution_count": 53,
   "id": "a697d609",
   "metadata": {},
   "outputs": [
    {
     "name": "stdout",
     "output_type": "stream",
     "text": [
      "enter any  natural number: 50\n",
      "sum of first 50 natural numbers is 1275\n"
     ]
    }
   ],
   "source": [
    "def natural_sum():\n",
    "    num =int(input('enter any  natural number: '))\n",
    "    sum=0\n",
    "    for i in range(num+1):\n",
    "        sum= sum+i\n",
    "    print(f\"sum of first {num} natural numbers is {sum}\")\n",
    "\n",
    "natural_sum()"
   ]
  },
  {
   "cell_type": "markdown",
   "id": "9f030478",
   "metadata": {},
   "source": [
    "-----------------------"
   ]
  }
 ],
 "metadata": {
  "kernelspec": {
   "display_name": "Python 3 (ipykernel)",
   "language": "python",
   "name": "python3"
  },
  "language_info": {
   "codemirror_mode": {
    "name": "ipython",
    "version": 3
   },
   "file_extension": ".py",
   "mimetype": "text/x-python",
   "name": "python",
   "nbconvert_exporter": "python",
   "pygments_lexer": "ipython3",
   "version": "3.9.12"
  }
 },
 "nbformat": 4,
 "nbformat_minor": 5
}
