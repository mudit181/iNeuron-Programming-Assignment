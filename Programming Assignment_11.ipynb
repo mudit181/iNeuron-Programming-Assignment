{
 "cells": [
  {
   "cell_type": "markdown",
   "id": "eb63d4ae",
   "metadata": {},
   "source": [
    "1. Write a Python program to find words which are greater than given length k?\n"
   ]
  },
  {
   "cell_type": "code",
   "execution_count": 49,
   "id": "5690e2f5",
   "metadata": {},
   "outputs": [
    {
     "data": {
      "text/plain": [
       "['country', 'called', 'India']"
      ]
     },
     "execution_count": 49,
     "metadata": {},
     "output_type": "execute_result"
    }
   ],
   "source": [
    "def string_k(k, str):\n",
    "     \n",
    "    string = []\n",
    "    text = str.split(\" \")\n",
    "     \n",
    "\n",
    "    for i in text: \n",
    "        if len(i) > k:  \n",
    "            string.append(i)           \n",
    "    return string\n",
    "     \n",
    "k = 4\n",
    "str =\"i live in country called India\"\n",
    "\n",
    "string_k(k, str)\n"
   ]
  },
  {
   "cell_type": "markdown",
   "id": "fac26454",
   "metadata": {},
   "source": [
    "---------------------------------"
   ]
  },
  {
   "cell_type": "markdown",
   "id": "1703edd2",
   "metadata": {},
   "source": [
    "2. Write a Python program for removing i-th character from a string?\n"
   ]
  },
  {
   "cell_type": "code",
   "execution_count": 21,
   "id": "1a7c3f4a",
   "metadata": {},
   "outputs": [
    {
     "name": "stdout",
     "output_type": "stream",
     "text": [
      "Enter the string : muditbhatt\n",
      "Enter the index : 2\n",
      "The new string :  muitbhatt\n"
     ]
    }
   ],
   "source": [
    "# Removes character at index i\n",
    "\n",
    "def remove(str, i): \n",
    "    for j in range(len(str)):\n",
    "        if j == i:\n",
    "            str = str.replace(str[i], \"\", 1)\n",
    "    return str      \n",
    "\n",
    "str = input(\"Enter the string : \")\n",
    "i = int(input(\"Enter the index : \"))      \n",
    "\n",
    "\n",
    "\n",
    "print(\"The new string : \", remove(str, i))"
   ]
  },
  {
   "cell_type": "markdown",
   "id": "edfce537",
   "metadata": {},
   "source": [
    "-------------------------"
   ]
  },
  {
   "cell_type": "markdown",
   "id": "60cd86ab",
   "metadata": {},
   "source": [
    "3. Write a Python program to split and join a string?\n"
   ]
  },
  {
   "cell_type": "code",
   "execution_count": 24,
   "id": "dd780d26",
   "metadata": {},
   "outputs": [
    {
     "name": "stdout",
     "output_type": "stream",
     "text": [
      "Spliting a string :  ['I', 'am', 'Indian']\n",
      "Joining a string :  I am Indian\n"
     ]
    }
   ],
   "source": [
    "str = \"I am Indian\"\n",
    "str = str.split(\" \") \n",
    "print(\"Spliting a string : \",str)\n",
    "\n",
    "\n",
    "str2 = \" \".join(str)\n",
    "print(\"Joining a string : \",str2)"
   ]
  },
  {
   "cell_type": "markdown",
   "id": "c698d12d",
   "metadata": {},
   "source": [
    "--------------------------"
   ]
  },
  {
   "cell_type": "markdown",
   "id": "96cf2b57",
   "metadata": {},
   "source": [
    "4. Write a Python to check if a given string is binary string or not?\n"
   ]
  },
  {
   "cell_type": "code",
   "execution_count": 28,
   "id": "c7a8e5c8",
   "metadata": {},
   "outputs": [
    {
     "name": "stdout",
     "output_type": "stream",
     "text": [
      "Enter the string : 0101010101010202020\n",
      "Not Binary\n"
     ]
    }
   ],
   "source": [
    "def binary(str):\n",
    "    str = input(\"Enter the string : \")\n",
    "    binary = '01'\n",
    "    for i in range(len(str)):\n",
    "        if str[i] not in binary:\n",
    "            print('Not Binary')\n",
    "            break\n",
    "    else:\n",
    "        print('Binary')\n",
    "        \n",
    "\n",
    "binary(str)"
   ]
  },
  {
   "cell_type": "code",
   "execution_count": 31,
   "id": "4a84e333",
   "metadata": {},
   "outputs": [
    {
     "name": "stdout",
     "output_type": "stream",
     "text": [
      "Enter the string : 01010101010101\n",
      "Binary\n"
     ]
    }
   ],
   "source": [
    "binary(str)"
   ]
  },
  {
   "cell_type": "markdown",
   "id": "99cb9f2a",
   "metadata": {},
   "source": [
    "-------------------"
   ]
  },
  {
   "cell_type": "markdown",
   "id": "eb8ae91a",
   "metadata": {},
   "source": [
    "5. Write a Python program to find uncommon words from two Strings?\n"
   ]
  },
  {
   "cell_type": "code",
   "execution_count": 33,
   "id": "bf14d6f9",
   "metadata": {},
   "outputs": [
    {
     "name": "stdout",
     "output_type": "stream",
     "text": [
      "i am a coder\n",
      "i am a python coder\n"
     ]
    },
    {
     "data": {
      "text/plain": [
       "['python']"
      ]
     },
     "execution_count": 33,
     "metadata": {},
     "output_type": "execute_result"
    }
   ],
   "source": [
    "def UncommonWords(A, B):\n",
    " \n",
    "    count = {}\n",
    "    for word in A.split():\n",
    "        count[word] = count.get(word, 0) + 1\n",
    "     \n",
    "    for word in B.split():\n",
    "        count[word] = count.get(word, 0) + 1\n",
    " \n",
    "    return [word for word in count if count[word] == 1]\n",
    " \n",
    "\n",
    "A = input()\n",
    "B = input()\n",
    " \n",
    "\n",
    "UncommonWords(A, B)"
   ]
  },
  {
   "cell_type": "markdown",
   "id": "43abc90c",
   "metadata": {},
   "source": [
    "-------------------------"
   ]
  },
  {
   "cell_type": "markdown",
   "id": "d9b648e5",
   "metadata": {},
   "source": [
    "6. Write a Python to find all duplicate characters in string?\n"
   ]
  },
  {
   "cell_type": "code",
   "execution_count": 42,
   "id": "9e921780",
   "metadata": {},
   "outputs": [
    {
     "name": "stdout",
     "output_type": "stream",
     "text": [
      "Enter the string : india\n"
     ]
    },
    {
     "data": {
      "text/plain": [
       "['i']"
      ]
     },
     "execution_count": 42,
     "metadata": {},
     "output_type": "execute_result"
    }
   ],
   "source": [
    "def duplicate():\n",
    "    str = input(\"Enter the string : \").lower()\n",
    "    d = []\n",
    "\n",
    "    for i in str:\n",
    "        if str.count(i) > 1 :\n",
    "            if i not in d:\n",
    "                d.append(i)\n",
    "    return d\n",
    "\n",
    "duplicate()"
   ]
  },
  {
   "cell_type": "code",
   "execution_count": 44,
   "id": "3ad6c673",
   "metadata": {},
   "outputs": [
    {
     "name": "stdout",
     "output_type": "stream",
     "text": [
      "Enter the string : Programmer\n"
     ]
    },
    {
     "data": {
      "text/plain": [
       "['r', 'm']"
      ]
     },
     "execution_count": 44,
     "metadata": {},
     "output_type": "execute_result"
    }
   ],
   "source": [
    "duplicate()"
   ]
  },
  {
   "cell_type": "markdown",
   "id": "326529ab",
   "metadata": {},
   "source": [
    "-------------------------"
   ]
  },
  {
   "cell_type": "markdown",
   "id": "de591bc6",
   "metadata": {},
   "source": [
    "7. Write a Python Program to check if a string contains any special character?"
   ]
  },
  {
   "cell_type": "code",
   "execution_count": 48,
   "id": "81fbaa2d",
   "metadata": {},
   "outputs": [
    {
     "name": "stdout",
     "output_type": "stream",
     "text": [
      "Enter the string  : #his slary in $20 & $30\n",
      "special character of String are : ['#', '$', '&', '$']\n"
     ]
    }
   ],
   "source": [
    "import string\n",
    "\n",
    "str_char = string.punctuation\n",
    "special_str = []\n",
    "\n",
    "str = input(\"Enter the string  : \").lower()\n",
    "for i in str:\n",
    "    if i in str_char:\n",
    "        special_str.append(i)\n",
    "if len(special_str) > 0:\n",
    "    print(f\"special character of String are : {special_str}\")"
   ]
  },
  {
   "cell_type": "markdown",
   "id": "e8556603",
   "metadata": {},
   "source": [
    "---------------------------"
   ]
  }
 ],
 "metadata": {
  "kernelspec": {
   "display_name": "Python 3 (ipykernel)",
   "language": "python",
   "name": "python3"
  },
  "language_info": {
   "codemirror_mode": {
    "name": "ipython",
    "version": 3
   },
   "file_extension": ".py",
   "mimetype": "text/x-python",
   "name": "python",
   "nbconvert_exporter": "python",
   "pygments_lexer": "ipython3",
   "version": "3.9.12"
  }
 },
 "nbformat": 4,
 "nbformat_minor": 5
}
