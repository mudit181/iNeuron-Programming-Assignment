{
 "cells": [
  {
   "cell_type": "markdown",
   "id": "fcc01021",
   "metadata": {},
   "source": [
    "1.Write a Python program to convert kilometers to miles?"
   ]
  },
  {
   "cell_type": "code",
   "execution_count": 15,
   "id": "a776afee",
   "metadata": {},
   "outputs": [],
   "source": [
    "#ans.\n",
    "def km_to_mil():\n",
    "    km = int(input(\"Enter Kilometer: \"))\n",
    "    miles = km*0.62\n",
    "    return f'{km}km  =  {miles}miles'"
   ]
  },
  {
   "cell_type": "code",
   "execution_count": 16,
   "id": "b16941c1",
   "metadata": {},
   "outputs": [
    {
     "name": "stdout",
     "output_type": "stream",
     "text": [
      "Enter Kilometer: 60\n"
     ]
    },
    {
     "data": {
      "text/plain": [
       "'60km  =  37.2miles'"
      ]
     },
     "execution_count": 16,
     "metadata": {},
     "output_type": "execute_result"
    }
   ],
   "source": [
    "km_to_mil()"
   ]
  },
  {
   "cell_type": "code",
   "execution_count": 17,
   "id": "c10d39ae",
   "metadata": {},
   "outputs": [
    {
     "name": "stdout",
     "output_type": "stream",
     "text": [
      "Enter Kilometer: 100\n"
     ]
    },
    {
     "data": {
      "text/plain": [
       "'100km  =  62.0miles'"
      ]
     },
     "execution_count": 17,
     "metadata": {},
     "output_type": "execute_result"
    }
   ],
   "source": [
    "km_to_mil()"
   ]
  },
  {
   "cell_type": "markdown",
   "id": "e9dd34b0",
   "metadata": {},
   "source": [
    "--------------------"
   ]
  },
  {
   "cell_type": "markdown",
   "id": "34ccef02",
   "metadata": {},
   "source": [
    "2. Write a Python program to convert Celsius to Fahrenheit?"
   ]
  },
  {
   "cell_type": "code",
   "execution_count": 21,
   "id": "fbd52304",
   "metadata": {},
   "outputs": [],
   "source": [
    "def C_to_F():\n",
    "    cel = int(input('enter the temperature in celsius: '))\n",
    "    fehr =(cel * 9/5) + 32\n",
    "    print(f'{cel}C  =  {fehr}F')       "
   ]
  },
  {
   "cell_type": "code",
   "execution_count": 22,
   "id": "28f6c1cb",
   "metadata": {},
   "outputs": [
    {
     "name": "stdout",
     "output_type": "stream",
     "text": [
      "enter the temperature in celsius: 40\n",
      "40C  =  104.0F\n"
     ]
    }
   ],
   "source": [
    "C_to_F()"
   ]
  },
  {
   "cell_type": "markdown",
   "id": "67e1a01b",
   "metadata": {},
   "source": [
    "---------------------"
   ]
  },
  {
   "cell_type": "markdown",
   "id": "1386d921",
   "metadata": {},
   "source": [
    "3. Write a Python program to display calendar?"
   ]
  },
  {
   "cell_type": "code",
   "execution_count": 26,
   "id": "eaa67a93",
   "metadata": {},
   "outputs": [
    {
     "name": "stdout",
     "output_type": "stream",
     "text": [
      "Enter year: 2022\n",
      "Enter month: 10\n",
      "    October 2022\n",
      "Mo Tu We Th Fr Sa Su\n",
      "                1  2\n",
      " 3  4  5  6  7  8  9\n",
      "10 11 12 13 14 15 16\n",
      "17 18 19 20 21 22 23\n",
      "24 25 26 27 28 29 30\n",
      "31\n",
      "\n"
     ]
    }
   ],
   "source": [
    "import calendar\n",
    "y = int(input(\"Enter year: \"))\n",
    "m = int(input(\"Enter month: \"))\n",
    "print(calendar.month(y, m))"
   ]
  },
  {
   "cell_type": "markdown",
   "id": "2e99fe92",
   "metadata": {},
   "source": [
    "--------------------"
   ]
  },
  {
   "cell_type": "markdown",
   "id": "d0cca5a0",
   "metadata": {},
   "source": [
    "4. Write a Python program to solve quadratic equation?\n"
   ]
  },
  {
   "cell_type": "code",
   "execution_count": 33,
   "id": "519fea07",
   "metadata": {},
   "outputs": [
    {
     "name": "stdout",
     "output_type": "stream",
     "text": [
      "Enter a = 1\n",
      "Enter b = 5\n",
      "Enter c = 6\n",
      "(-3+0j) , (-2+0j)\n"
     ]
    }
   ],
   "source": [
    "#ans.\n",
    "# The quadratic equation is ax**2 + bx + c = 0\n",
    "import cmath\n",
    "\n",
    "a=int(input(\"Enter a = \"))\n",
    "b=int(input(\"Enter b = \"))\n",
    "c=int(input(\"Enter c = \"))\n",
    "\n",
    "d = (b**2) - (4*a*c)\n",
    "\n",
    "sol1 = (-b-cmath.sqrt(d))/(2*a)\n",
    "sol2 = (-b+cmath.sqrt(d))/(2*a)\n",
    "\n",
    "print(sol1 ,\",\", sol2)"
   ]
  },
  {
   "cell_type": "markdown",
   "id": "9ec137db",
   "metadata": {},
   "source": [
    "------------------------"
   ]
  },
  {
   "cell_type": "markdown",
   "id": "67c3c96c",
   "metadata": {},
   "source": [
    "5. Write a Python program to swap two variables without temp variable?"
   ]
  },
  {
   "cell_type": "code",
   "execution_count": 34,
   "id": "22d28302",
   "metadata": {},
   "outputs": [
    {
     "name": "stdout",
     "output_type": "stream",
     "text": [
      "Enter first number: 60\n",
      "Enter second number: 500\n",
      "Before swapping values of a and b are : 60 and 500\n",
      "After swapping values of a and b are : 500 and 60\n"
     ]
    }
   ],
   "source": [
    "#Ans.\n",
    "a = int(input(\"Enter first number: \"))\n",
    "b = int(input(\"Enter second number: \"))\n",
    "print(\"Before swapping values of a and b are : {0} and {1}\".format(a,b))\n",
    "a,b = b,a\n",
    "print(\"After swapping values of a and b are : {0} and {1}\".format(a,b))"
   ]
  },
  {
   "cell_type": "code",
   "execution_count": null,
   "id": "5714311d",
   "metadata": {},
   "outputs": [],
   "source": []
  }
 ],
 "metadata": {
  "kernelspec": {
   "display_name": "Python 3 (ipykernel)",
   "language": "python",
   "name": "python3"
  },
  "language_info": {
   "codemirror_mode": {
    "name": "ipython",
    "version": 3
   },
   "file_extension": ".py",
   "mimetype": "text/x-python",
   "name": "python",
   "nbconvert_exporter": "python",
   "pygments_lexer": "ipython3",
   "version": "3.9.12"
  }
 },
 "nbformat": 4,
 "nbformat_minor": 5
}
