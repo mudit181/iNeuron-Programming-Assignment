{
 "cells": [
  {
   "cell_type": "markdown",
   "id": "087fd8b3",
   "metadata": {},
   "source": [
    "Question1\n",
    "\n",
    "Create a function that takes three parameters where:\n",
    " x is the start of the range (inclusive).\n",
    " y is the end of the range (inclusive).\n",
    " n is the divisor to be checked against.\n",
    "Return an ordered list with numbers in the range that are divisible by the third parameter n.\n",
    "Return an empty list if there are no numbers that are divisible by n.\n",
    "Examples\n",
    "\n",
    "list_operation(1, 10, 3) ➞ [3, 6, 9]\n",
    "\n",
    "list_operation(7, 9, 2) ➞ [8]\n",
    "\n",
    "list_operation(15, 20, 7) ➞ []"
   ]
  },
  {
   "cell_type": "code",
   "execution_count": 3,
   "id": "47779de5",
   "metadata": {},
   "outputs": [],
   "source": [
    "def list_operation(x,y,n):\n",
    "    l = []\n",
    "    for i in range(x,y+1):\n",
    "        if i % n == 0:\n",
    "            l.append(i)\n",
    "    return l"
   ]
  },
  {
   "cell_type": "code",
   "execution_count": 4,
   "id": "2eeb96ef",
   "metadata": {},
   "outputs": [
    {
     "data": {
      "text/plain": [
       "[3, 6, 9]"
      ]
     },
     "execution_count": 4,
     "metadata": {},
     "output_type": "execute_result"
    }
   ],
   "source": [
    "list_operation(1, 10, 3)"
   ]
  },
  {
   "cell_type": "code",
   "execution_count": 5,
   "id": "c43b87bd",
   "metadata": {},
   "outputs": [
    {
     "data": {
      "text/plain": [
       "[8]"
      ]
     },
     "execution_count": 5,
     "metadata": {},
     "output_type": "execute_result"
    }
   ],
   "source": [
    "list_operation(7, 9, 2)"
   ]
  },
  {
   "cell_type": "code",
   "execution_count": 6,
   "id": "f615c236",
   "metadata": {},
   "outputs": [
    {
     "data": {
      "text/plain": [
       "[]"
      ]
     },
     "execution_count": 6,
     "metadata": {},
     "output_type": "execute_result"
    }
   ],
   "source": [
    "list_operation(15, 20, 7)"
   ]
  },
  {
   "cell_type": "markdown",
   "id": "5ce9d729",
   "metadata": {},
   "source": [
    "------------------------------------"
   ]
  },
  {
   "cell_type": "markdown",
   "id": "f0181084",
   "metadata": {},
   "source": [
    "Question2\n",
    "Create a function that takes in two lists and returns True if the second list follows the first list\n",
    "by one element, and False otherwise. In other words, determine if the second list is the first\n",
    "list shifted to the right by 1.\n",
    "Examples\n",
    "\n",
    "simon_says([1, 2], [5, 1]) ➞ True\n",
    "\n",
    "simon_says([1, 2], [5, 5]) ➞ False\n",
    "\n",
    "simon_says([1, 2, 3, 4, 5], [0, 1, 2, 3, 4]) ➞ True\n",
    "\n",
    "simon_says([1, 2, 3, 4, 5], [5, 5, 1, 2, 3]) ➞ False\n",
    "\n",
    "Notes\n",
    " Both input lists will be of the same length, and will have a minimum length of 2.\n",
    " The values of the 0-indexed element in the second list and the n-1th indexed element\n",
    "in the first list do not matter."
   ]
  },
  {
   "cell_type": "code",
   "execution_count": 9,
   "id": "1cf4cc05",
   "metadata": {},
   "outputs": [],
   "source": [
    "def simon_says(l1,l2):\n",
    "    if l1[0:len(l1)-1] == l2[1:len(l2)]:\n",
    "        return True\n",
    "    return False"
   ]
  },
  {
   "cell_type": "code",
   "execution_count": 10,
   "id": "9c7e0e71",
   "metadata": {},
   "outputs": [
    {
     "data": {
      "text/plain": [
       "True"
      ]
     },
     "execution_count": 10,
     "metadata": {},
     "output_type": "execute_result"
    }
   ],
   "source": [
    "simon_says([1, 2], [5, 1])"
   ]
  },
  {
   "cell_type": "code",
   "execution_count": 11,
   "id": "a0aab8b4",
   "metadata": {},
   "outputs": [
    {
     "data": {
      "text/plain": [
       "False"
      ]
     },
     "execution_count": 11,
     "metadata": {},
     "output_type": "execute_result"
    }
   ],
   "source": [
    "simon_says([1, 2], [5, 5])"
   ]
  },
  {
   "cell_type": "code",
   "execution_count": 12,
   "id": "f2ecd46b",
   "metadata": {},
   "outputs": [
    {
     "data": {
      "text/plain": [
       "False"
      ]
     },
     "execution_count": 12,
     "metadata": {},
     "output_type": "execute_result"
    }
   ],
   "source": [
    "simon_says([1, 2, 3, 4, 5], [5, 5, 1, 2, 3])"
   ]
  },
  {
   "cell_type": "markdown",
   "id": "61063452",
   "metadata": {},
   "source": [
    "----------------------------------"
   ]
  },
  {
   "cell_type": "markdown",
   "id": "c51c30b0",
   "metadata": {},
   "source": [
    "Question3\n",
    ". A group of friends have decided to start a secret society. The name will be the first letter of\n",
    "\n",
    "each of their names, sorted in alphabetical order. Create a function that takes in a list of names and returns the name of the secret society.\n",
    "\n",
    "Examples \n",
    "society_name(['Adam', 'Sarah', 'Malcolm']) ➞ 'AMS' \n",
    "\n",
    "society_name(['Harry', 'Newt', 'Luna', 'Cho']) ➞ 'CHLN' \n",
    "\n",
    "society_name(['Phoebe', 'Chandler', 'Rachel', 'Ross', 'Monica', 'Joey'])"
   ]
  },
  {
   "cell_type": "code",
   "execution_count": 58,
   "id": "bc50b1ea",
   "metadata": {},
   "outputs": [],
   "source": [
    "def society_name(l):\n",
    "    l1=[]\n",
    "    for i in sorted(l):\n",
    "        l1.append(i[0])\n",
    "    return ''.join(l1)\n",
    "      "
   ]
  },
  {
   "cell_type": "code",
   "execution_count": 59,
   "id": "3bf97591",
   "metadata": {},
   "outputs": [
    {
     "data": {
      "text/plain": [
       "'AMS'"
      ]
     },
     "execution_count": 59,
     "metadata": {},
     "output_type": "execute_result"
    }
   ],
   "source": [
    "society_name(['Adam', 'Sarah', 'Malcolm'])"
   ]
  },
  {
   "cell_type": "code",
   "execution_count": 60,
   "id": "99e1d121",
   "metadata": {},
   "outputs": [
    {
     "data": {
      "text/plain": [
       "'CHLN'"
      ]
     },
     "execution_count": 60,
     "metadata": {},
     "output_type": "execute_result"
    }
   ],
   "source": [
    "society_name(['Harry', 'Newt', 'Luna', 'Cho'])"
   ]
  },
  {
   "cell_type": "markdown",
   "id": "56e5378a",
   "metadata": {},
   "source": [
    "------------------------------"
   ]
  },
  {
   "cell_type": "markdown",
   "id": "61cedaeb",
   "metadata": {},
   "source": [
    "Question4\n",
    " An isogram is a word that has no duplicate letters. Create a function that takes a string and\n",
    "\n",
    "returns either True or False depending on whether or not it's an 'isogram'. \n",
    "Examples\n",
    "\n",
    "is_isogram('Algorism') ➞ True \n",
    "\n",
    "is_isogram('PasSword') ➞ False   #Not case sensitive. \n",
    "\n",
    "is_isogram('Consecutive') ➞ False \n",
    "\n",
    "Notes  Ignore letter case (should not be case sensitive).  All test cases contain valid one word strings."
   ]
  },
  {
   "cell_type": "code",
   "execution_count": 63,
   "id": "8e7d2d6b",
   "metadata": {},
   "outputs": [],
   "source": [
    "def is_isogram(a):\n",
    "    for i in range(len(a)):\n",
    "        if a.lower().count(a[i]) > 1:\n",
    "            return False\n",
    "    else:\n",
    "        return True"
   ]
  },
  {
   "cell_type": "code",
   "execution_count": 64,
   "id": "f46b891e",
   "metadata": {},
   "outputs": [
    {
     "data": {
      "text/plain": [
       "True"
      ]
     },
     "execution_count": 64,
     "metadata": {},
     "output_type": "execute_result"
    }
   ],
   "source": [
    "is_isogram('Algorism')"
   ]
  },
  {
   "cell_type": "code",
   "execution_count": 65,
   "id": "3371bc56",
   "metadata": {},
   "outputs": [
    {
     "data": {
      "text/plain": [
       "False"
      ]
     },
     "execution_count": 65,
     "metadata": {},
     "output_type": "execute_result"
    }
   ],
   "source": [
    "is_isogram('Consecutive')"
   ]
  },
  {
   "cell_type": "code",
   "execution_count": 66,
   "id": "ae51bef0",
   "metadata": {},
   "outputs": [
    {
     "data": {
      "text/plain": [
       "False"
      ]
     },
     "execution_count": 66,
     "metadata": {},
     "output_type": "execute_result"
    }
   ],
   "source": [
    "is_isogram('PasSword')"
   ]
  },
  {
   "cell_type": "markdown",
   "id": "9fd430fa",
   "metadata": {},
   "source": [
    "Question5.\n",
    "Create a function that takes a string and returns True or False, depending on whether the\n",
    "\n",
    "characters are in order or not. \n",
    "\n",
    "Examples is_in_order('abc') ➞ True\n",
    "\n",
    "is_in_order('edabit') ➞ False \n",
    "\n",
    "is_in_order('123') ➞ True \n",
    "\n",
    "is_in_order('xyzz') ➞ True \n",
    "\n",
    "#Notes You don't have to handle empty strings."
   ]
  },
  {
   "cell_type": "code",
   "execution_count": 67,
   "id": "d4d9d8f7",
   "metadata": {},
   "outputs": [],
   "source": [
    "def is_in_order(s):\n",
    "    n = len(s)\n",
    "    c = [s[i] for i in range(len(s))]\n",
    "    c.sort()\n",
    "    for i in range(n):\n",
    "        if c[i] != s[i]:\n",
    "            return False\n",
    "    return True"
   ]
  },
  {
   "cell_type": "code",
   "execution_count": 68,
   "id": "e004912d",
   "metadata": {},
   "outputs": [
    {
     "data": {
      "text/plain": [
       "False"
      ]
     },
     "execution_count": 68,
     "metadata": {},
     "output_type": "execute_result"
    }
   ],
   "source": [
    "is_in_order('edabit')"
   ]
  },
  {
   "cell_type": "code",
   "execution_count": 71,
   "id": "ba1cac88",
   "metadata": {},
   "outputs": [
    {
     "data": {
      "text/plain": [
       "False"
      ]
     },
     "execution_count": 71,
     "metadata": {},
     "output_type": "execute_result"
    }
   ],
   "source": [
    "is_in_order('mudit')"
   ]
  },
  {
   "cell_type": "code",
   "execution_count": 70,
   "id": "acd2fd3e",
   "metadata": {},
   "outputs": [
    {
     "data": {
      "text/plain": [
       "True"
      ]
     },
     "execution_count": 70,
     "metadata": {},
     "output_type": "execute_result"
    }
   ],
   "source": [
    "is_in_order('123')"
   ]
  },
  {
   "cell_type": "code",
   "execution_count": 72,
   "id": "2f5fe3b2",
   "metadata": {},
   "outputs": [
    {
     "data": {
      "text/plain": [
       "True"
      ]
     },
     "execution_count": 72,
     "metadata": {},
     "output_type": "execute_result"
    }
   ],
   "source": [
    "is_in_order('xyzz')"
   ]
  },
  {
   "cell_type": "markdown",
   "id": "72600596",
   "metadata": {},
   "source": [
    "-----------------------------"
   ]
  }
 ],
 "metadata": {
  "kernelspec": {
   "display_name": "Python 3 (ipykernel)",
   "language": "python",
   "name": "python3"
  },
  "language_info": {
   "codemirror_mode": {
    "name": "ipython",
    "version": 3
   },
   "file_extension": ".py",
   "mimetype": "text/x-python",
   "name": "python",
   "nbconvert_exporter": "python",
   "pygments_lexer": "ipython3",
   "version": "3.9.12"
  }
 },
 "nbformat": 4,
 "nbformat_minor": 5
}
